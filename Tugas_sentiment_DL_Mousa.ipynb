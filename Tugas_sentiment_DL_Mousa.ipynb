{
  "cells": [
    {
      "cell_type": "markdown",
      "metadata": {
        "id": "pbLlLCQ7I9vY"
      },
      "source": [
        "### importing Libraries that will be needed"
      ]
    },
    {
      "cell_type": "code",
      "execution_count": 1,
      "metadata": {
        "id": "8X15VjwJI9vZ"
      },
      "outputs": [],
      "source": [
        "import pandas as pd\n",
        "import numpy as np\n",
        "import seaborn as sns\n",
        "import matplotlib.pyplot as plt\n",
        "import sklearn\n",
        "# import tensorflow_hub as hub\n",
        "# import tensorflow_text as text"
      ]
    },
    {
      "cell_type": "markdown",
      "metadata": {
        "id": "JqMIAMoeI9va"
      },
      "source": [
        "### Assigning datasets into variables"
      ]
    },
    {
      "cell_type": "code",
      "execution_count": 2,
      "metadata": {
        "colab": {
          "base_uri": "https://localhost:8080/",
          "height": 501
        },
        "id": "yUdG6Y9CI9va",
        "outputId": "85a2c304-04d7-4f6d-d4af-6f64f7c22eed"
      },
      "outputs": [
        {
          "name": "stdout",
          "output_type": "stream",
          "text": [
            "(80000, 6)\n",
            "(20000, 6)\n"
          ]
        },
        {
          "data": {
            "text/html": [
              "<div>\n",
              "<style scoped>\n",
              "    .dataframe tbody tr th:only-of-type {\n",
              "        vertical-align: middle;\n",
              "    }\n",
              "\n",
              "    .dataframe tbody tr th {\n",
              "        vertical-align: top;\n",
              "    }\n",
              "\n",
              "    .dataframe thead th {\n",
              "        text-align: right;\n",
              "    }\n",
              "</style>\n",
              "<table border=\"1\" class=\"dataframe\">\n",
              "  <thead>\n",
              "    <tr style=\"text-align: right;\">\n",
              "      <th></th>\n",
              "      <th>text</th>\n",
              "      <th>labels</th>\n",
              "      <th>preds</th>\n",
              "      <th>feedback</th>\n",
              "      <th>retrain_labels</th>\n",
              "      <th>retrained_preds</th>\n",
              "    </tr>\n",
              "  </thead>\n",
              "  <tbody>\n",
              "    <tr>\n",
              "      <th>0</th>\n",
              "      <td>that might sound silly but if i havent pre-ord...</td>\n",
              "      <td>0</td>\n",
              "      <td>NaN</td>\n",
              "      <td>NaN</td>\n",
              "      <td>NaN</td>\n",
              "      <td>NaN</td>\n",
              "    </tr>\n",
              "    <tr>\n",
              "      <th>1</th>\n",
              "      <td>googledofhey - i have no idea where else to tu...</td>\n",
              "      <td>1</td>\n",
              "      <td>NaN</td>\n",
              "      <td>NaN</td>\n",
              "      <td>NaN</td>\n",
              "      <td>NaN</td>\n",
              "    </tr>\n",
              "    <tr>\n",
              "      <th>2</th>\n",
              "      <td>i just achieved the mana sponge achievement</td>\n",
              "      <td>1</td>\n",
              "      <td>NaN</td>\n",
              "      <td>NaN</td>\n",
              "      <td>NaN</td>\n",
              "      <td>NaN</td>\n",
              "    </tr>\n",
              "    <tr>\n",
              "      <th>3</th>\n",
              "      <td>i go through this often when in a high up loca...</td>\n",
              "      <td>0</td>\n",
              "      <td>NaN</td>\n",
              "      <td>NaN</td>\n",
              "      <td>NaN</td>\n",
              "      <td>NaN</td>\n",
              "    </tr>\n",
              "    <tr>\n",
              "      <th>4</th>\n",
              "      <td>mr paul christoph in sandrock best pubg teamma...</td>\n",
              "      <td>2</td>\n",
              "      <td>NaN</td>\n",
              "      <td>NaN</td>\n",
              "      <td>NaN</td>\n",
              "      <td>NaN</td>\n",
              "    </tr>\n",
              "  </tbody>\n",
              "</table>\n",
              "</div>"
            ],
            "text/plain": [
              "                                                text  labels  preds  feedback  \\\n",
              "0  that might sound silly but if i havent pre-ord...       0    NaN       NaN   \n",
              "1  googledofhey - i have no idea where else to tu...       1    NaN       NaN   \n",
              "2        i just achieved the mana sponge achievement       1    NaN       NaN   \n",
              "3  i go through this often when in a high up loca...       0    NaN       NaN   \n",
              "4  mr paul christoph in sandrock best pubg teamma...       2    NaN       NaN   \n",
              "\n",
              "   retrain_labels  retrained_preds  \n",
              "0             NaN              NaN  \n",
              "1             NaN              NaN  \n",
              "2             NaN              NaN  \n",
              "3             NaN              NaN  \n",
              "4             NaN              NaN  "
            ]
          },
          "execution_count": 2,
          "metadata": {},
          "output_type": "execute_result"
        }
      ],
      "source": [
        "train_dataset = pd.read_csv('/home/mousaa04/dl/tugas-sentiment-analysis/sentiment_analysis_train.csv')\n",
        "test_dataset = pd.read_csv('/home/mousaa04/dl/tugas-sentiment-analysis/sentiment_analysis_test.csv')\n",
        "print(train_dataset.shape)\n",
        "print(test_dataset.shape)\n",
        "train_dataset.head()\n"
      ]
    },
    {
      "cell_type": "markdown",
      "metadata": {},
      "source": [
        "### Dropping the NaN value"
      ]
    },
    {
      "cell_type": "code",
      "execution_count": 3,
      "metadata": {
        "colab": {
          "base_uri": "https://localhost:8080/",
          "height": 206
        },
        "id": "etsHoKXVI9va",
        "outputId": "5abdd866-a3c2-41bf-cb48-27a85f222d23"
      },
      "outputs": [
        {
          "data": {
            "text/html": [
              "<div>\n",
              "<style scoped>\n",
              "    .dataframe tbody tr th:only-of-type {\n",
              "        vertical-align: middle;\n",
              "    }\n",
              "\n",
              "    .dataframe tbody tr th {\n",
              "        vertical-align: top;\n",
              "    }\n",
              "\n",
              "    .dataframe thead th {\n",
              "        text-align: right;\n",
              "    }\n",
              "</style>\n",
              "<table border=\"1\" class=\"dataframe\">\n",
              "  <thead>\n",
              "    <tr style=\"text-align: right;\">\n",
              "      <th></th>\n",
              "      <th>text</th>\n",
              "      <th>labels</th>\n",
              "    </tr>\n",
              "  </thead>\n",
              "  <tbody>\n",
              "    <tr>\n",
              "      <th>0</th>\n",
              "      <td>that might sound silly but if i havent pre-ord...</td>\n",
              "      <td>0</td>\n",
              "    </tr>\n",
              "    <tr>\n",
              "      <th>1</th>\n",
              "      <td>googledofhey - i have no idea where else to tu...</td>\n",
              "      <td>1</td>\n",
              "    </tr>\n",
              "    <tr>\n",
              "      <th>2</th>\n",
              "      <td>i just achieved the mana sponge achievement</td>\n",
              "      <td>1</td>\n",
              "    </tr>\n",
              "    <tr>\n",
              "      <th>3</th>\n",
              "      <td>i go through this often when in a high up loca...</td>\n",
              "      <td>0</td>\n",
              "    </tr>\n",
              "    <tr>\n",
              "      <th>4</th>\n",
              "      <td>mr paul christoph in sandrock best pubg teamma...</td>\n",
              "      <td>2</td>\n",
              "    </tr>\n",
              "  </tbody>\n",
              "</table>\n",
              "</div>"
            ],
            "text/plain": [
              "                                                text  labels\n",
              "0  that might sound silly but if i havent pre-ord...       0\n",
              "1  googledofhey - i have no idea where else to tu...       1\n",
              "2        i just achieved the mana sponge achievement       1\n",
              "3  i go through this often when in a high up loca...       0\n",
              "4  mr paul christoph in sandrock best pubg teamma...       2"
            ]
          },
          "execution_count": 3,
          "metadata": {},
          "output_type": "execute_result"
        }
      ],
      "source": [
        "train_dataset = train_dataset.drop(columns=['preds','feedback','retrain_labels','retrained_preds'],axis=1)\n",
        "test_dataset = test_dataset.drop(columns=['preds','feedback','retrain_labels','retrained_preds'],axis=1)\n",
        "train_dataset.head()"
      ]
    },
    {
      "cell_type": "markdown",
      "metadata": {
        "id": "ZLm_HqN5I9vb"
      },
      "source": [
        "### checking for a null value"
      ]
    },
    {
      "cell_type": "code",
      "execution_count": 4,
      "metadata": {
        "colab": {
          "base_uri": "https://localhost:8080/"
        },
        "id": "wT3NhZV3I9vb",
        "outputId": "9a36e128-a81a-4d61-e689-5f630808df6e"
      },
      "outputs": [
        {
          "name": "stdout",
          "output_type": "stream",
          "text": [
            "Index([], dtype='int64')\n"
          ]
        }
      ],
      "source": [
        "print(train_dataset.index[train_dataset.index.isnull()])"
      ]
    },
    {
      "cell_type": "markdown",
      "metadata": {
        "id": "nL9Z8ILvI9vb"
      },
      "source": [
        "### deleting the null value rows"
      ]
    },
    {
      "cell_type": "code",
      "execution_count": 5,
      "metadata": {},
      "outputs": [],
      "source": [
        "train_dataset = train_dataset.dropna()\n",
        "test_dataset = test_dataset.dropna()"
      ]
    },
    {
      "cell_type": "markdown",
      "metadata": {},
      "source": [
        "### Delete rows that have the length of the sentence greater than 64"
      ]
    },
    {
      "cell_type": "code",
      "execution_count": 6,
      "metadata": {},
      "outputs": [],
      "source": [
        "train_dataset = train_dataset[train_dataset['text'].str.len() < 64]\n",
        "test_dataset = test_dataset[test_dataset['text'].str.len() < 64]\n"
      ]
    },
    {
      "cell_type": "markdown",
      "metadata": {},
      "source": [
        "### View the data distribution"
      ]
    },
    {
      "cell_type": "code",
      "execution_count": 7,
      "metadata": {
        "colab": {
          "base_uri": "https://localhost:8080/",
          "height": 449
        },
        "id": "GQ9_fxHxI9vb",
        "outputId": "bdb67415-488f-4905-a87c-00d547976a08"
      },
      "outputs": [
        {
          "data": {
            "image/png": "[encoded data removed]",
            "text/plain": [
              "<Figure size 640x480 with 1 Axes>"
            ]
          },
          "metadata": {},
          "output_type": "display_data"
        }
      ],
      "source": [
        "sns.countplot(x='labels',data=train_dataset)\n",
        "plt.show()"
      ]
    },
    {
      "cell_type": "markdown",
      "metadata": {},
      "source": [
        "### Split the dataset into train, validation, and test"
      ]
    },
    {
      "cell_type": "code",
      "execution_count": 8,
      "metadata": {
        "colab": {
          "base_uri": "https://localhost:8080/"
        },
        "id": "5AX3l_IFI9vc",
        "outputId": "a1489ea8-3b03-4ca4-db9c-ff6f1eb30749"
      },
      "outputs": [
        {
          "name": "stdout",
          "output_type": "stream",
          "text": [
            "21953\n",
            "6158\n"
          ]
        }
      ],
      "source": [
        "from sklearn.model_selection import train_test_split\n",
        "x_train,x_val,y_train,y_val = train_test_split(train_dataset['text'],train_dataset['labels'],test_size=.1,random_state=19)\n",
        "x_test = test_dataset['text'].values\n",
        "y_test = test_dataset['labels'].values\n",
        "\n",
        "print(len(x_train))\n",
        "print(len(x_test))\n",
        "\n",
        "x_train = x_train.astype(str).tolist()\n",
        "x_val = x_val.astype(str).tolist()\n",
        "x_test = x_test.astype(str).tolist()\n",
        "y_train = y_train.astype(int).tolist()\n",
        "y_val = y_val.astype(int).tolist()\n",
        "y_test = y_test.astype(int).tolist()\n"
      ]
    },
    {
      "cell_type": "markdown",
      "metadata": {},
      "source": [
        "### Importing the BERT classification model library"
      ]
    },
    {
      "cell_type": "code",
      "execution_count": 10,
      "metadata": {
        "id": "JdddsIlkI9vc"
      },
      "outputs": [
        {
          "name": "stderr",
          "output_type": "stream",
          "text": [
            "2024-09-27 14:39:34.974093: I tensorflow/core/platform/cpu_feature_guard.cc:210] This TensorFlow binary is optimized to use available CPU instructions in performance-critical operations.\n",
            "To enable the following instructions: AVX2 FMA, in other operations, rebuild TensorFlow with the appropriate compiler flags.\n",
            "2024-09-27 14:39:36.405625: W tensorflow/compiler/tf2tensorrt/utils/py_utils.cc:38] TF-TRT Warning: Could not find TensorRT\n",
            "/home/mousaa04/miniconda3/envs/deep-l/lib/python3.10/site-packages/tqdm/auto.py:21: TqdmWarning: IProgress not found. Please update jupyter and ipywidgets. See https://ipywidgets.readthedocs.io/en/stable/user_install.html\n",
            "  from .autonotebook import tqdm as notebook_tqdm\n"
          ]
        }
      ],
      "source": [
        "import tensorflow\n",
        "from transformers import BertTokenizer, TFBertForSequenceClassification"
      ]
    },
    {
      "cell_type": "code",
      "execution_count": 11,
      "metadata": {
        "colab": {
          "base_uri": "https://localhost:8080/"
        },
        "id": "uT00kawcI9vc",
        "outputId": "db9e871b-2c6d-42ad-cd87-e46c304ad9ab"
      },
      "outputs": [
        {
          "name": "stderr",
          "output_type": "stream",
          "text": [
            "/home/mousaa04/miniconda3/envs/deep-l/lib/python3.10/site-packages/transformers/tokenization_utils_base.py:1601: FutureWarning: `clean_up_tokenization_spaces` was not set. It will be set to `True` by default. This behavior will be depracted in transformers v4.45, and will be then set to `False` by default. For more details check this issue: https://github.com/huggingface/transformers/issues/31884\n",
            "  warnings.warn(\n"
          ]
        }
      ],
      "source": [
        "tokenizer = BertTokenizer.from_pretrained('bert-base-uncased')"
      ]
    },
    {
      "cell_type": "markdown",
      "metadata": {},
      "source": [
        "### Tokenizing the data"
      ]
    },
    {
      "cell_type": "code",
      "execution_count": 12,
      "metadata": {
        "id": "ovYZHTbnKSQe"
      },
      "outputs": [
        {
          "name": "stderr",
          "output_type": "stream",
          "text": [
            "2024-09-27 14:39:42.764271: I external/local_xla/xla/stream_executor/cuda/cuda_executor.cc:984] could not open file to read NUMA node: /sys/bus/pci/devices/0000:01:00.0/numa_node\n",
            "Your kernel may have been built without NUMA support.\n",
            "2024-09-27 14:39:42.916087: I external/local_xla/xla/stream_executor/cuda/cuda_executor.cc:984] could not open file to read NUMA node: /sys/bus/pci/devices/0000:01:00.0/numa_node\n",
            "Your kernel may have been built without NUMA support.\n",
            "2024-09-27 14:39:42.916409: I external/local_xla/xla/stream_executor/cuda/cuda_executor.cc:984] could not open file to read NUMA node: /sys/bus/pci/devices/0000:01:00.0/numa_node\n",
            "Your kernel may have been built without NUMA support.\n",
            "2024-09-27 14:39:42.919061: I external/local_xla/xla/stream_executor/cuda/cuda_executor.cc:984] could not open file to read NUMA node: /sys/bus/pci/devices/0000:01:00.0/numa_node\n",
            "Your kernel may have been built without NUMA support.\n",
            "2024-09-27 14:39:42.919347: I external/local_xla/xla/stream_executor/cuda/cuda_executor.cc:984] could not open file to read NUMA node: /sys/bus/pci/devices/0000:01:00.0/numa_node\n",
            "Your kernel may have been built without NUMA support.\n",
            "2024-09-27 14:39:42.919604: I external/local_xla/xla/stream_executor/cuda/cuda_executor.cc:984] could not open file to read NUMA node: /sys/bus/pci/devices/0000:01:00.0/numa_node\n",
            "Your kernel may have been built without NUMA support.\n",
            "2024-09-27 14:39:43.527451: I external/local_xla/xla/stream_executor/cuda/cuda_executor.cc:984] could not open file to read NUMA node: /sys/bus/pci/devices/0000:01:00.0/numa_node\n",
            "Your kernel may have been built without NUMA support.\n",
            "2024-09-27 14:39:43.527855: I external/local_xla/xla/stream_executor/cuda/cuda_executor.cc:984] could not open file to read NUMA node: /sys/bus/pci/devices/0000:01:00.0/numa_node\n",
            "Your kernel may have been built without NUMA support.\n",
            "2024-09-27 14:39:43.527877: I tensorflow/core/common_runtime/gpu/gpu_device.cc:2019] Could not identify NUMA node of platform GPU id 0, defaulting to 0.  Your kernel may not have been built with NUMA support.\n",
            "2024-09-27 14:39:43.528230: I external/local_xla/xla/stream_executor/cuda/cuda_executor.cc:984] could not open file to read NUMA node: /sys/bus/pci/devices/0000:01:00.0/numa_node\n",
            "Your kernel may have been built without NUMA support.\n",
            "2024-09-27 14:39:43.528356: I tensorflow/core/common_runtime/gpu/gpu_device.cc:1928] Created device /job:localhost/replica:0/task:0/device:GPU:0 with 3586 MB memory:  -> device: 0, name: NVIDIA GeForce RTX 3060 Laptop GPU, pci bus id: 0000:01:00.0, compute capability: 8.6\n"
          ]
        }
      ],
      "source": [
        "x_train_tokenized = tokenizer(\n",
        "    x_train,\n",
        "    max_length = 64,\n",
        "    truncation=True,\n",
        "    padding='max_length',\n",
        "    return_tensors='tf'\n",
        ")\n",
        "x_val_tokenized = tokenizer(\n",
        "    x_val,\n",
        "    max_length = 64,\n",
        "    truncation=True,\n",
        "    padding='max_length',\n",
        "    return_tensors='tf'\n",
        ")\n",
        "x_test_tokenized = tokenizer(\n",
        "    x_test,\n",
        "    max_length = 64,\n",
        "    truncation=True,\n",
        "    padding='max_length',\n",
        "    return_tensors='tf'\n",
        ")\n"
      ]
    },
    {
      "cell_type": "markdown",
      "metadata": {},
      "source": [
        "### converting target from array into tensor"
      ]
    },
    {
      "cell_type": "code",
      "execution_count": 13,
      "metadata": {
        "id": "IP8teVoYI9vc"
      },
      "outputs": [],
      "source": [
        "y_train = tensorflow.convert_to_tensor(y_train,dtype=tensorflow.int32)\n",
        "y_val = tensorflow.convert_to_tensor(y_val,dtype=tensorflow.int32)"
      ]
    },
    {
      "cell_type": "markdown",
      "metadata": {},
      "source": [
        "### Importing the BERT Classification model"
      ]
    },
    {
      "cell_type": "code",
      "execution_count": 16,
      "metadata": {
        "colab": {
          "base_uri": "https://localhost:8080/"
        },
        "id": "KZFI0y5qI9vd",
        "outputId": "873df6ba-d185-4659-a0df-cc8e50d2c3cf"
      },
      "outputs": [
        {
          "name": "stderr",
          "output_type": "stream",
          "text": [
            "All PyTorch model weights were used when initializing TFBertForSequenceClassification.\n",
            "\n",
            "Some weights or buffers of the TF 2.0 model TFBertForSequenceClassification were not initialized from the PyTorch model and are newly initialized: ['classifier.weight', 'classifier.bias']\n",
            "You should probably TRAIN this model on a down-stream task to be able to use it for predictions and inference.\n"
          ]
        }
      ],
      "source": [
        "model = TFBertForSequenceClassification.from_pretrained('bert-base-uncased',num_labels=3, trainable=True, hidden_dropout_prob=.35,attention_probs_dropout_prob = .2)"
      ]
    },
    {
      "cell_type": "markdown",
      "metadata": {},
      "source": [
        "### Setting up the optimizer, metrics, and loss"
      ]
    },
    {
      "cell_type": "code",
      "execution_count": 17,
      "metadata": {
        "id": "nu1LpJliI9vd"
      },
      "outputs": [],
      "source": [
        "loss = tensorflow.keras.losses.SparseCategoricalCrossentropy(from_logits=True)\n",
        "accuracy = tensorflow.keras.metrics.SparseCategoricalAccuracy('accuracy')\n",
        "optimizer = tensorflow.keras.optimizers.Adam(learning_rate=2e-5)"
      ]
    },
    {
      "cell_type": "markdown",
      "metadata": {},
      "source": [
        "### Compiling the model"
      ]
    },
    {
      "cell_type": "code",
      "execution_count": 18,
      "metadata": {
        "id": "Q7QJ32tVI9vd"
      },
      "outputs": [],
      "source": [
        "model.compile(optimizer=optimizer, loss=loss,metrics=accuracy)"
      ]
    },
    {
      "cell_type": "markdown",
      "metadata": {},
      "source": [
        "### Importing and setting up the Early Stopping"
      ]
    },
    {
      "cell_type": "code",
      "execution_count": 22,
      "metadata": {},
      "outputs": [],
      "source": [
        "from tf_keras import callbacks\n",
        "\n",
        "\n",
        "early_stopping = callbacks.EarlyStopping(\n",
        "    monitor='val_accuracy',\n",
        "    patience=5,\n",
        "    verbose=1,\n",
        "    restore_best_weights=True\n",
        ")"
      ]
    },
    {
      "cell_type": "markdown",
      "metadata": {},
      "source": [
        "### Training the model"
      ]
    },
    {
      "cell_type": "code",
      "execution_count": 23,
      "metadata": {
        "colab": {
          "base_uri": "https://localhost:8080/",
          "height": 1000
        },
        "id": "0YzhsXWrI9vd",
        "outputId": "6b051651-8708-4586-9e08-af110af05ad1"
      },
      "outputs": [
        {
          "name": "stdout",
          "output_type": "stream",
          "text": [
            "Epoch 1/20\n",
            "WARNING:tensorflow:AutoGraph could not transform <function infer_framework at 0x7f5c558f4ee0> and will run it as-is.\n",
            "Cause: for/else statement not yet supported\n",
            "To silence this warning, decorate the function with @tf.autograph.experimental.do_not_convert\n",
            "WARNING: AutoGraph could not transform <function infer_framework at 0x7f5c558f4ee0> and will run it as-is.\n",
            "Cause: for/else statement not yet supported\n",
            "To silence this warning, decorate the function with @tf.autograph.experimental.do_not_convert\n"
          ]
        },
        {
          "name": "stderr",
          "output_type": "stream",
          "text": [
            "WARNING: All log messages before absl::InitializeLog() is called are written to STDERR\n",
            "I0000 00:00:1727422828.868347  178559 service.cc:145] XLA service 0x7f5b5ab88fc0 initialized for platform CUDA (this does not guarantee that XLA will be used). Devices:\n",
            "I0000 00:00:1727422828.868446  178559 service.cc:153]   StreamExecutor device (0): NVIDIA GeForce RTX 3060 Laptop GPU, Compute Capability 8.6\n",
            "2024-09-27 14:40:28.873884: I tensorflow/compiler/mlir/tensorflow/utils/dump_mlir_util.cc:268] disabling MLIR crash reproducer, set env var `MLIR_CRASH_REPRODUCER_DIRECTORY` to enable.\n",
            "2024-09-27 14:40:28.892693: I external/local_xla/xla/stream_executor/cuda/cuda_dnn.cc:465] Loaded cuDNN version 8907\n",
            "I0000 00:00:1727422828.949736  178559 device_compiler.h:188] Compiled cluster using XLA!  This line is logged at most once for the lifetime of the process.\n"
          ]
        },
        {
          "name": "stdout",
          "output_type": "stream",
          "text": [
            "687/687 [==============================] - 232s 268ms/step - loss: 0.9620 - accuracy: 0.5253 - val_loss: 0.8246 - val_accuracy: 0.6291\n",
            "Epoch 2/20\n",
            "687/687 [==============================] - 187s 272ms/step - loss: 0.8101 - accuracy: 0.6390 - val_loss: 0.7754 - val_accuracy: 0.6680\n",
            "Epoch 3/20\n",
            "687/687 [==============================] - 191s 278ms/step - loss: 0.7026 - accuracy: 0.6976 - val_loss: 0.6364 - val_accuracy: 0.7463\n",
            "Epoch 4/20\n",
            "687/687 [==============================] - 192s 279ms/step - loss: 0.6084 - accuracy: 0.7486 - val_loss: 0.5969 - val_accuracy: 0.7615\n",
            "Epoch 5/20\n",
            "687/687 [==============================] - 192s 279ms/step - loss: 0.5259 - accuracy: 0.7887 - val_loss: 0.5815 - val_accuracy: 0.7959\n",
            "Epoch 6/20\n",
            "687/687 [==============================] - 192s 280ms/step - loss: 0.4567 - accuracy: 0.8166 - val_loss: 0.5223 - val_accuracy: 0.8156\n",
            "Epoch 7/20\n",
            "687/687 [==============================] - 193s 281ms/step - loss: 0.3975 - accuracy: 0.8421 - val_loss: 0.4954 - val_accuracy: 0.8316\n",
            "Epoch 8/20\n",
            "687/687 [==============================] - 193s 280ms/step - loss: 0.3455 - accuracy: 0.8650 - val_loss: 0.4678 - val_accuracy: 0.8422\n",
            "Epoch 9/20\n",
            "687/687 [==============================] - 192s 280ms/step - loss: 0.3037 - accuracy: 0.8803 - val_loss: 0.4797 - val_accuracy: 0.8451\n",
            "Epoch 10/20\n",
            "687/687 [==============================] - 193s 281ms/step - loss: 0.2615 - accuracy: 0.8955 - val_loss: 0.4935 - val_accuracy: 0.8525\n",
            "Epoch 11/20\n",
            "687/687 [==============================] - 193s 281ms/step - loss: 0.2365 - accuracy: 0.9061 - val_loss: 0.5131 - val_accuracy: 0.8512\n",
            "Epoch 12/20\n",
            "687/687 [==============================] - 193s 282ms/step - loss: 0.2192 - accuracy: 0.9116 - val_loss: 0.5080 - val_accuracy: 0.8566\n",
            "Epoch 13/20\n",
            "687/687 [==============================] - 193s 281ms/step - loss: 0.1964 - accuracy: 0.9194 - val_loss: 0.5227 - val_accuracy: 0.8602\n",
            "Epoch 14/20\n",
            "687/687 [==============================] - 192s 280ms/step - loss: 0.1822 - accuracy: 0.9256 - val_loss: 0.4954 - val_accuracy: 0.8635\n",
            "Epoch 15/20\n",
            "687/687 [==============================] - 191s 279ms/step - loss: 0.1663 - accuracy: 0.9309 - val_loss: 0.5327 - val_accuracy: 0.8631\n",
            "Epoch 16/20\n",
            "687/687 [==============================] - 192s 280ms/step - loss: 0.1587 - accuracy: 0.9349 - val_loss: 0.5398 - val_accuracy: 0.8680\n",
            "Epoch 17/20\n",
            "687/687 [==============================] - 192s 280ms/step - loss: 0.1433 - accuracy: 0.9389 - val_loss: 0.5959 - val_accuracy: 0.8602\n",
            "Epoch 18/20\n",
            "687/687 [==============================] - 194s 282ms/step - loss: 0.1382 - accuracy: 0.9430 - val_loss: 0.5481 - val_accuracy: 0.8643\n",
            "Epoch 19/20\n",
            "687/687 [==============================] - 193s 282ms/step - loss: 0.1343 - accuracy: 0.9437 - val_loss: 0.5420 - val_accuracy: 0.8602\n",
            "Epoch 20/20\n",
            "687/687 [==============================] - 192s 279ms/step - loss: 0.1260 - accuracy: 0.9470 - val_loss: 0.5672 - val_accuracy: 0.8672\n",
            "Restoring model weights from the end of the best epoch: 16.\n"
          ]
        }
      ],
      "source": [
        "history = model.fit([x_train_tokenized['input_ids'],x_train_tokenized['attention_mask']],y_train,epochs=20,batch_size=32,validation_data=([x_val_tokenized['input_ids'],x_val_tokenized['attention_mask']],y_val),callbacks=[early_stopping])"
      ]
    },
    {
      "cell_type": "markdown",
      "metadata": {},
      "source": [
        "### Visualizing the train and the validation plot"
      ]
    },
    {
      "cell_type": "code",
      "execution_count": 24,
      "metadata": {},
      "outputs": [
        {
          "data": {
            "text/plain": [
              "<matplotlib.legend.Legend at 0x7f5afc2bc0d0>"
            ]
          },
          "execution_count": 24,
          "metadata": {},
          "output_type": "execute_result"
        },
        {
          "data": {
            "image/png": "[encoded data removed]",
            "text/plain": [
              "<Figure size 1600x900 with 1 Axes>"
            ]
          },
          "metadata": {},
          "output_type": "display_data"
        },
        {
          "data": {
            "image/png": "[encoded data removed]",
            "text/plain": [
              "<Figure size 1600x900 with 1 Axes>"
            ]
          },
          "metadata": {},
          "output_type": "display_data"
        }
      ],
      "source": [
        "import matplotlib.pyplot as plt\n",
        "\n",
        "plt.figure(figsize=(16,9))\n",
        "plt.subplot(1,2,1)\n",
        "plt.plot(history.history['loss'],label='train loss')\n",
        "plt.plot(history.history['val_loss'],label='validation loss')\n",
        "plt.title('loss')\n",
        "plt.xlabel('epochs')\n",
        "plt.ylabel('losses')\n",
        "plt.legend()\n",
        "plt.figure(figsize=(16,9))\n",
        "plt.subplot(1,2,2)\n",
        "plt.plot(history.history['accuracy'],label='train accuracy')\n",
        "plt.plot(history.history['val_accuracy'],label='validation accuracy')\n",
        "plt.title('accuracy')\n",
        "plt.xlabel('epochs')\n",
        "plt.ylabel('accuracy')\n",
        "plt.legend()"
      ]
    },
    {
      "cell_type": "markdown",
      "metadata": {},
      "source": [
        "### Predicting using test data"
      ]
    },
    {
      "cell_type": "code",
      "execution_count": 25,
      "metadata": {},
      "outputs": [
        {
          "name": "stdout",
          "output_type": "stream",
          "text": [
            "193/193 [==============================] - 25s 104ms/step\n"
          ]
        }
      ],
      "source": [
        "y_pred = model.predict(x_test_tokenized)"
      ]
    },
    {
      "cell_type": "markdown",
      "metadata": {},
      "source": [
        "### Converting the logits into the label number"
      ]
    },
    {
      "cell_type": "code",
      "execution_count": 30,
      "metadata": {},
      "outputs": [],
      "source": [
        "from scipy.special import softmax\n",
        "y_hasil = []\n",
        "for i in range(len(y_pred[0])):\n",
        "    x = softmax(y_pred[0][i])\n",
        "    x = np.argmax(x)\n",
        "    y_hasil.append(x)"
      ]
    },
    {
      "cell_type": "markdown",
      "metadata": {},
      "source": [
        "### Calculating the accuracy"
      ]
    },
    {
      "cell_type": "code",
      "execution_count": 31,
      "metadata": {},
      "outputs": [
        {
          "name": "stdout",
          "output_type": "stream",
          "text": [
            "85.44982137057487\n"
          ]
        }
      ],
      "source": [
        "from sklearn.metrics import accuracy_score\n",
        "\n",
        "print(accuracy_score(y_hasil,y_test)*100)"
      ]
    },
    {
      "cell_type": "markdown",
      "metadata": {},
      "source": [
        "### Testing the model"
      ]
    },
    {
      "cell_type": "code",
      "execution_count": 44,
      "metadata": {},
      "outputs": [],
      "source": [
        "sentence = \"do you even have a brain?\"\n",
        "sentence_tokenized = tokenizer(\n",
        "    sentence,\n",
        "    max_length=128,\n",
        "    padding='max_length',\n",
        "    truncation=True,\n",
        "    return_tensors='tf'\n",
        ")"
      ]
    },
    {
      "cell_type": "code",
      "execution_count": 45,
      "metadata": {},
      "outputs": [
        {
          "name": "stdout",
          "output_type": "stream",
          "text": [
            "1/1 [==============================] - 0s 115ms/step\n",
            "sentiment of the sentence \"do you even have a brain?\":negative\n"
          ]
        }
      ],
      "source": [
        "sentiment_dict = {\n",
        "    0:'negative',\n",
        "    1:'neutral',\n",
        "    2:'positive'\n",
        "}\n",
        "sentiment_sentence = model.predict(sentence_tokenized)\n",
        "sentiment_sentence = softmax(sentiment_sentence[0][0])\n",
        "sentiment_arg = np.argmax(sentiment_sentence)\n",
        "print(f'sentiment of the sentence \"{sentence}\":{sentiment_dict[sentiment_arg]}')"
      ]
    }
  ],
  "metadata": {
    "colab": {
      "provenance": []
    },
    "kernelspec": {
      "display_name": "Python 3",
      "language": "python",
      "name": "python3"
    },
    "language_info": {
      "codemirror_mode": {
        "name": "ipython",
        "version": 3
      },
      "file_extension": ".py",
      "mimetype": "text/x-python",
      "name": "python",
      "nbconvert_exporter": "python",
      "pygments_lexer": "ipython3",
      "version": "3.10.14"
    }
  },
  "nbformat": 4,
  "nbformat_minor": 0
}
